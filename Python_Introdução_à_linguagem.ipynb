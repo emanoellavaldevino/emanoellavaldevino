{
  "nbformat": 4,
  "nbformat_minor": 0,
  "metadata": {
    "colab": {
      "provenance": [],
      "collapsed_sections": [
        "CT7IkvD-HG_i",
        "gB8NA-sMHkJK",
        "G9gbaICZlsbJ"
      ],
      "authorship_tag": "ABX9TyPEtKcFJU12P2yNT6zWx7r3",
      "include_colab_link": true
    },
    "kernelspec": {
      "name": "python3",
      "display_name": "Python 3"
    },
    "language_info": {
      "name": "python"
    }
  },
  "cells": [
    {
      "cell_type": "markdown",
      "metadata": {
        "id": "view-in-github",
        "colab_type": "text"
      },
      "source": [
        "<a href=\"https://colab.research.google.com/github/emanoellavaldevino/emanoellavaldevino/blob/main/Python_Introdu%C3%A7%C3%A3o_%C3%A0_linguagem.ipynb\" target=\"_parent\"><img src=\"https://colab.research.google.com/assets/colab-badge.svg\" alt=\"Open In Colab\"/></a>"
      ]
    },
    {
      "cell_type": "markdown",
      "source": [
        "**Correção de Exercícios 1**"
      ],
      "metadata": {
        "id": "e2nTymiO2sTp"
      }
    },
    {
      "cell_type": "markdown",
      "source": [
        "# Aula 1: Introdução a linguagem"
      ],
      "metadata": {
        "id": "CT7IkvD-HG_i"
      }
    },
    {
      "cell_type": "code",
      "source": [
        "'''\n",
        "Nomes dos animais, quantidade de animais, peso dos animais e se são vacinados\n",
        "'''\n",
        "\n",
        "nome1 = \"Antônia\"\n",
        "nome2 = \"Betânia\"\n",
        "nome3 = \"Kiara\"\n",
        "\n",
        "quantidade = 3\n",
        "\n",
        "peso1 = 3.90\n",
        "peso2 = 20.50\n",
        "peso3 = 5.25\n",
        "\n",
        "#Situacao se os animais foram vacinados\n",
        "\n",
        "vacinado1 = False\n",
        "vacinado2 = False\n",
        "vacinado3 = True\n",
        "\n",
        "print(\"Nome do primeiro animal é:\" , nome1,\"\\nEla pesa: \" , peso1, \"\\nEla foi vacinada? \" , vacinado1)\n",
        "\n",
        "print(\"Nome do primeiro animal é:\" , nome2,\"\\nEla pesa: \" , peso2, \"\\nEla foi vacinada? \" , vacinado2)\n",
        "\n",
        "print(\"Nome do primeiro animal é:\" , nome3,\"\\nEla pesa: \" , peso3, \"\\nEla foi vacinada? \" , vacinado3)\n"
      ],
      "metadata": {
        "colab": {
          "base_uri": "https://localhost:8080/"
        },
        "id": "ukn0eyXD-MyO",
        "outputId": "8d494d7d-8d4d-4b46-a528-42dc490454d2"
      },
      "execution_count": 40,
      "outputs": [
        {
          "output_type": "stream",
          "name": "stdout",
          "text": [
            "Nome do primeiro animal é: Antônia \n",
            "Ela pesa:  3.9 \n",
            "Ela foi vacinada?  False\n",
            "Nome do primeiro animal é: Betânia \n",
            "Ela pesa:  20.5 \n",
            "Ela foi vacinada?  False\n",
            "Nome do primeiro animal é: Kiara \n",
            "Ela pesa:  5.25 \n",
            "Ela foi vacinada?  True\n"
          ]
        }
      ]
    },
    {
      "cell_type": "code",
      "source": [
        "print(\"Hello Wordl!\")"
      ],
      "metadata": {
        "colab": {
          "base_uri": "https://localhost:8080/"
        },
        "id": "oLIcukMgF3XO",
        "outputId": "a07fdea7-be4e-41b9-f49b-f0b5b44ca196"
      },
      "execution_count": 42,
      "outputs": [
        {
          "output_type": "stream",
          "name": "stdout",
          "text": [
            "Hello Wordl!\n"
          ]
        }
      ]
    },
    {
      "cell_type": "markdown",
      "source": [
        "# Aula 2: Manipução de dados\n"
      ],
      "metadata": {
        "id": "gB8NA-sMHkJK"
      }
    },
    {
      "cell_type": "markdown",
      "source": [
        "Saída de **dados**\n"
      ],
      "metadata": {
        "id": "vTOfxI1NHvRP"
      }
    },
    {
      "cell_type": "code",
      "source": [
        "nome = \"Emanoella\"\n",
        "idade = 35\n",
        "peso = 57.5\n",
        "\n",
        "print(\"Meu nome é:\",nome, \"\\nEu tenho:\", idade,\"\\nEu peso:\",peso,\".\")"
      ],
      "metadata": {
        "colab": {
          "base_uri": "https://localhost:8080/"
        },
        "id": "aougm9uUH5U4",
        "outputId": "2f3084ed-4f3e-4a5a-8569-e75261bcdfd7"
      },
      "execution_count": 53,
      "outputs": [
        {
          "output_type": "stream",
          "name": "stdout",
          "text": [
            "Meu nome é: Emanoella \n",
            "Eu tenho: 35 \n",
            "Eu peso: 57.5 .\n"
          ]
        }
      ]
    },
    {
      "cell_type": "code",
      "source": [
        "print('22','01','1088', sep='/')"
      ],
      "metadata": {
        "colab": {
          "base_uri": "https://localhost:8080/"
        },
        "id": "QADtXZ7HMBU9",
        "outputId": "151ff174-16c9-429a-b0ff-5fdfc524684b"
      },
      "execution_count": 57,
      "outputs": [
        {
          "output_type": "stream",
          "name": "stdout",
          "text": [
            "22/01/1088\n"
          ]
        }
      ]
    },
    {
      "cell_type": "code",
      "source": [
        "print('B', 'n', 'n', '.', sep='a')"
      ],
      "metadata": {
        "colab": {
          "base_uri": "https://localhost:8080/"
        },
        "id": "T08nBl0kMnv8",
        "outputId": "7290d2ab-d860-4ae3-8a35-f7ca6ccdbcb2"
      },
      "execution_count": 59,
      "outputs": [
        {
          "output_type": "stream",
          "name": "stdout",
          "text": [
            "Banana.\n"
          ]
        }
      ]
    },
    {
      "cell_type": "markdown",
      "source": [
        "Entrada de **Dados**"
      ],
      "metadata": {
        "id": "hC6_bXv6NMpw"
      }
    },
    {
      "cell_type": "code",
      "source": [
        "nome = input(\"Escreva seu nome: \") #Tipo String\n",
        "idade = int(input(\"Digite sua idade: \")) #inteiro\n",
        "peso = float(input(\"Digite seu peso: \")) #Float"
      ],
      "metadata": {
        "colab": {
          "base_uri": "https://localhost:8080/"
        },
        "id": "BsvDUnI8NQsq",
        "outputId": "2b1910ba-660c-484b-8021-1e93c75cf8e1"
      },
      "execution_count": 67,
      "outputs": [
        {
          "name": "stdout",
          "output_type": "stream",
          "text": [
            "Escreva seu nome: Ema\n",
            "Digite sua idade: 35\n",
            "Digite seu peso: 57.5\n"
          ]
        }
      ]
    },
    {
      "cell_type": "markdown",
      "source": [
        "Operadores Aritméticos"
      ],
      "metadata": {
        "id": "8zizY5wyilvB"
      }
    },
    {
      "cell_type": "code",
      "source": [
        "a = 4\n",
        "b = 4\n",
        "\n",
        "print(a + b) #Soma\n",
        "print(a - b) #Subtração\n",
        "print(10 / 6) #Divisão\n",
        "print(4 * 2) #Multiplicação\n",
        "print(4 // 6) #Divisão Exata\n",
        "print(4 % 6) #Resto de Divisão\n"
      ],
      "metadata": {
        "colab": {
          "base_uri": "https://localhost:8080/"
        },
        "id": "_QW3b9zpirZM",
        "outputId": "7ba3c424-3501-4f53-f8bf-37918466a7d1"
      },
      "execution_count": 69,
      "outputs": [
        {
          "output_type": "stream",
          "name": "stdout",
          "text": [
            "8\n",
            "0\n",
            "1.6666666666666667\n",
            "8\n",
            "0\n",
            "4\n"
          ]
        }
      ]
    },
    {
      "cell_type": "markdown",
      "source": [
        "Prática Proposta - Aula 02"
      ],
      "metadata": {
        "id": "JaUqGrcvjmNz"
      }
    },
    {
      "cell_type": "code",
      "source": [
        "nome = input(\"Qual é o seu nome? \")\n",
        "altura = float(input(\"Qual é a sua altura? \"))\n",
        "cpf = int(input(\"Qual é o seu cpf? \"))\n",
        "\n",
        "print(\"O seu nome é\",nome, \". sua altura é: \",altura,\". seu cpf é:\",cpf)"
      ],
      "metadata": {
        "colab": {
          "base_uri": "https://localhost:8080/"
        },
        "id": "1eGSPT2GjpcH",
        "outputId": "549c2be2-22f4-4faf-c87f-1c3f8248c160"
      },
      "execution_count": 74,
      "outputs": [
        {
          "output_type": "stream",
          "name": "stdout",
          "text": [
            "Qual é o seu nome? Ema\n",
            "Qual é a sua altura? 1.53\n",
            "Qual é o seu cpf? 9922212332\n",
            "O seu nome é Ema . sua altura é:  1.53 . seu cpf é: 9922212332\n"
          ]
        }
      ]
    },
    {
      "cell_type": "markdown",
      "source": [
        "# Aula 3: Estrutura de condições"
      ],
      "metadata": {
        "id": "G9gbaICZlsbJ"
      }
    },
    {
      "cell_type": "markdown",
      "source": [
        "Operadores de relação e condição"
      ],
      "metadata": {
        "id": "CJmm4UIAl3Ug"
      }
    },
    {
      "cell_type": "code",
      "source": [
        "#Operadores de igualdade\n",
        "#==, !=\n",
        "\n",
        "#Operadores de condição\n",
        "#>, <, >=, <="
      ],
      "metadata": {
        "id": "wC87UHW3l2i7"
      },
      "execution_count": 75,
      "outputs": []
    },
    {
      "cell_type": "markdown",
      "source": [
        "Comando IF ELSE ELIF"
      ],
      "metadata": {
        "id": "YYxVxq69vJzD"
      }
    },
    {
      "cell_type": "code",
      "source": [
        "numero = 10\n",
        "\n",
        "if numero == 10:   #True\n",
        "  print(\"O número é igual a 10\")\n",
        "\n",
        "else:   #False\n",
        "  print(\"O número não é igual a 10\")"
      ],
      "metadata": {
        "colab": {
          "base_uri": "https://localhost:8080/"
        },
        "id": "Ziok4xcVvL-I",
        "outputId": "2fe8cd1e-9111-4c97-8317-7085c681a6fc"
      },
      "execution_count": 77,
      "outputs": [
        {
          "output_type": "stream",
          "name": "stdout",
          "text": [
            "O número é igual a 10\n"
          ]
        }
      ]
    },
    {
      "cell_type": "code",
      "source": [
        "#ELIF\n",
        "\n",
        "numero = 15\n",
        "\n",
        "if numero == 11:\n",
        "  print(\"O número é igual a 11!\")\n",
        "elif numero == 12:\n",
        "  print(\"O número é igual a 12!\")\n",
        "elif numero == 13:\n",
        "  print(\"O número é igual a 13!\")\n",
        "else:\n",
        "  print(\"Esse número não é igual a 11, 12 e nem a 13!\")"
      ],
      "metadata": {
        "colab": {
          "base_uri": "https://localhost:8080/"
        },
        "id": "rbMgNQD4wzzg",
        "outputId": "42f2831f-5b6a-45b6-83d1-4d6afed21589"
      },
      "execution_count": 82,
      "outputs": [
        {
          "output_type": "stream",
          "name": "stdout",
          "text": [
            "Esse número não é igual a 11, 12 e nem a 13!\n"
          ]
        }
      ]
    },
    {
      "cell_type": "markdown",
      "source": [
        "Prática Proposta - Aula 03"
      ],
      "metadata": {
        "id": "yENuG_auyrxz"
      }
    },
    {
      "cell_type": "code",
      "source": [
        "numero = -1\n",
        "\n",
        "if numero == 15:\n",
        " print(\"O número é igual que 15!\")\n",
        "\n",
        "elif numero > 15:\n",
        "  print(\"O número é maior que 15!\")\n",
        "\n",
        "else:\n",
        "  print(\"O número é menor que 15\")"
      ],
      "metadata": {
        "colab": {
          "base_uri": "https://localhost:8080/"
        },
        "id": "ILrTb8cOy1Ho",
        "outputId": "c27c7c38-bd26-4fe4-bfb2-2ae1803a66a4"
      },
      "execution_count": 88,
      "outputs": [
        {
          "output_type": "stream",
          "name": "stdout",
          "text": [
            "O número é menor que 15\n"
          ]
        }
      ]
    },
    {
      "cell_type": "markdown",
      "source": [
        "# Aula 4: Estrutura de controle de fluxo"
      ],
      "metadata": {
        "id": "ZS2nSVTZ2jtx"
      }
    },
    {
      "cell_type": "markdown",
      "source": [
        "Laço While\n"
      ],
      "metadata": {
        "id": "eFXrCjV12sha"
      }
    },
    {
      "cell_type": "code",
      "source": [
        "i = 0\n",
        "\n",
        "while(i<=10):\n",
        "  print(\"O loop está funcionando...\")\n",
        "  i+=1"
      ],
      "metadata": {
        "colab": {
          "base_uri": "https://localhost:8080/"
        },
        "id": "dRghh2N62w_f",
        "outputId": "51bd838b-206a-4f0f-b2d0-a8d21b969377"
      },
      "execution_count": 92,
      "outputs": [
        {
          "output_type": "stream",
          "name": "stdout",
          "text": [
            "O loop está funcionando...\n",
            "O loop está funcionando...\n",
            "O loop está funcionando...\n",
            "O loop está funcionando...\n",
            "O loop está funcionando...\n",
            "O loop está funcionando...\n",
            "O loop está funcionando...\n",
            "O loop está funcionando...\n",
            "O loop está funcionando...\n",
            "O loop está funcionando...\n",
            "O loop está funcionando...\n"
          ]
        }
      ]
    },
    {
      "cell_type": "markdown",
      "source": [
        "Laço de repetição FOR\n"
      ],
      "metadata": {
        "id": "unDX6vZU67Ib"
      }
    },
    {
      "cell_type": "code",
      "source": [
        "for i in \"Python\":\n",
        "  print(i)\n"
      ],
      "metadata": {
        "colab": {
          "base_uri": "https://localhost:8080/"
        },
        "id": "yixOf7b073th",
        "outputId": "d6f4789c-1a84-4f1c-c8c5-bd783ac1d354"
      },
      "execution_count": 93,
      "outputs": [
        {
          "output_type": "stream",
          "name": "stdout",
          "text": [
            "P\n",
            "y\n",
            "t\n",
            "h\n",
            "o\n",
            "n\n"
          ]
        }
      ]
    },
    {
      "cell_type": "code",
      "source": [
        "num = [1,2,3,4]\n",
        "for e in num:\n",
        "  print(e)"
      ],
      "metadata": {
        "colab": {
          "base_uri": "https://localhost:8080/"
        },
        "id": "bDXMo1rbC_FR",
        "outputId": "4e16d986-8e33-41ce-b63a-21840ca6c0aa"
      },
      "execution_count": 94,
      "outputs": [
        {
          "output_type": "stream",
          "name": "stdout",
          "text": [
            "1\n",
            "2\n",
            "3\n",
            "4\n"
          ]
        }
      ]
    },
    {
      "cell_type": "markdown",
      "source": [
        "FOR RANGE"
      ],
      "metadata": {
        "id": "pgfr3WxuEacf"
      }
    },
    {
      "cell_type": "code",
      "source": [
        "for i in range(10):\n",
        "  print(i)"
      ],
      "metadata": {
        "colab": {
          "base_uri": "https://localhost:8080/"
        },
        "id": "bv0rykgQEcO0",
        "outputId": "d6bc5abd-2c42-499a-b3dc-a5706d39abff"
      },
      "execution_count": 95,
      "outputs": [
        {
          "output_type": "stream",
          "name": "stdout",
          "text": [
            "0\n",
            "1\n",
            "2\n",
            "3\n",
            "4\n",
            "5\n",
            "6\n",
            "7\n",
            "8\n",
            "9\n"
          ]
        }
      ]
    },
    {
      "cell_type": "code",
      "source": [
        "for e in range(9, -1, -1):\n",
        "  print(e)"
      ],
      "metadata": {
        "colab": {
          "base_uri": "https://localhost:8080/"
        },
        "id": "Naq2mweGE8ku",
        "outputId": "dfb4b3d6-7ccd-406a-c77e-d50808f29d74"
      },
      "execution_count": 96,
      "outputs": [
        {
          "output_type": "stream",
          "name": "stdout",
          "text": [
            "9\n",
            "8\n",
            "7\n",
            "6\n",
            "5\n",
            "4\n",
            "3\n",
            "2\n",
            "1\n",
            "0\n"
          ]
        }
      ]
    },
    {
      "cell_type": "markdown",
      "source": [
        "Prática Proposta - Aula 04"
      ],
      "metadata": {
        "id": "rtRoC_MuFSMT"
      }
    },
    {
      "cell_type": "code",
      "source": [
        "for i in range(0, 18, 3):\n",
        "  print(i)"
      ],
      "metadata": {
        "colab": {
          "base_uri": "https://localhost:8080/"
        },
        "id": "gq4S-LftFTQV",
        "outputId": "336be22e-66c5-4f40-8c16-880bb5aef19d"
      },
      "execution_count": 104,
      "outputs": [
        {
          "output_type": "stream",
          "name": "stdout",
          "text": [
            "0\n",
            "3\n",
            "6\n",
            "9\n",
            "12\n",
            "15\n"
          ]
        }
      ]
    }
  ]
}